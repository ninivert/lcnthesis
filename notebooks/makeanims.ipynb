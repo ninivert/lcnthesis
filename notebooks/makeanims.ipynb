{
 "cells": [
  {
   "cell_type": "code",
   "execution_count": 2,
   "metadata": {},
   "outputs": [],
   "source": [
    "%load_ext autoreload\n",
    "%autoreload 2"
   ]
  },
  {
   "cell_type": "code",
   "execution_count": 3,
   "metadata": {},
   "outputs": [],
   "source": [
    "import matplotlib.pyplot as plt\n",
    "import matplotlib as mpl, matplotlib.pyplot as plt, matplotlib.animation as animation\n",
    "import numpy as np\n",
    "from neurodyn import *\n",
    "\n",
    "from tqdm import tqdm\n",
    "from scipy import stats\n",
    "from pathlib import Path\n",
    "from math import ceil\n",
    "\n",
    "import matplotlib_tufte\n",
    "matplotlib_tufte.setup()\n",
    "from matplotlib_tufte import *"
   ]
  },
  {
   "attachments": {},
   "cell_type": "markdown",
   "metadata": {},
   "source": [
    "# rnn p=1"
   ]
  },
  {
   "cell_type": "code",
   "execution_count": 4,
   "metadata": {},
   "outputs": [
    {
     "name": "stderr",
     "output_type": "stream",
     "text": [
      "simulating LowRankRNN{N=50000, p=1, phi=sigmoid, I_ext=zero, exclude_self_connections=True}: 100.00%|██████████| t=40.000 of 40 [00:20<00:00]\n"
     ]
    }
   ],
   "source": [
    "rnn = LowRankRNN.new_valentin(p=1, N=50_000, phi=sigmoid, I_ext=zero, exclude_self_connections=True)\n",
    "res = rnn.simulate(h0=np.zeros(rnn.N), t_span=(0, 40), progress=True)"
   ]
  },
  {
   "cell_type": "code",
   "execution_count": 5,
   "metadata": {},
   "outputs": [
    {
     "name": "stderr",
     "output_type": "stream",
     "text": [
      "100%|██████████| 82/82 [00:22<00:00,  3.58it/s]\n"
     ]
    }
   ],
   "source": [
    "def anim(rnn: LowRankRNN, res: Result, outpath: Path, time_stride: int = 1, Nmax = 1500):\n",
    "\tactivity = rnn.phi(res.h[:Nmax])\n",
    "\tidx_mapping = np.arange(len(res.h[:Nmax, -1]))\n",
    "\n",
    "\tfig, axes = plt.subplots(ncols=3, figsize=(8, 3), dpi=200,\n",
    "\t\twidth_ratios=[1,30,30], layout=None)\n",
    "\n",
    "\t# neuron index\n",
    "\n",
    "\taxes[1].set_title('Unordered neuron activity', fontsize='medium')\n",
    "\tsc_idx = axes[1].scatter(\n",
    "\t\tidx_mapping, activity[:, 0], c=activity[:, 0],\n",
    "\t\ts=3, ec=None, clip_on=False,\n",
    "\t\tcmap=cmap_bi, vmin=0, vmax=1)\n",
    "\taxes[1].set_xlabel('Neuron index $i$')\n",
    "\taxes[1].set_ylim((0,1))\n",
    "\taxes[1].yaxis.set_visible(False)\n",
    "\taxes[1].spines.left.set_visible(False)\n",
    "\taxes[1].set_xlim((0, Nmax))\n",
    "\tbreathe(axes[1], 'x')\n",
    "\n",
    "\t# neuron embedding\n",
    "\n",
    "\taxes[2].set_title('Neural activity in the 1D embedding', fontsize='medium')\n",
    "\tsc_emb = axes[2].scatter(\n",
    "\t\trnn.F[:Nmax, 0], activity[:, 0], c=activity[:, 0],\n",
    "\t\ts=3, ec=None, clip_on=False,\n",
    "\t\tcmap=cmap_bi, vmin=0, vmax=1)\n",
    "\taxes[2].set_xlabel('Neuron embedding $z_{1i}$')\n",
    "\t# axes[2].set_ylabel('Activity $\\\\phi(h(z_{1i}))$ [Hz]')\n",
    "\taxes[2].set_ylim((0,1))\n",
    "\taxes[2].yaxis.set_visible(False)\n",
    "\taxes[2].spines.left.set_visible(False)\n",
    "\taxes[2].set_xlim((-3, 3))\n",
    "\taxes[2].set_xticks([-3, 0, 3])\n",
    "\tbreathe(axes[2], 'x')\n",
    "\n",
    "\tfig.colorbar(\n",
    "\t\tsc_emb, cax=axes[0],\n",
    "\t\tlocation='left',\n",
    "\t\tlabel='Activity $\\\\phi(h(z_{1i}))$ [Hz]')\n",
    "\n",
    "\tfig.subplots_adjust(wspace=0.2)\n",
    "\tplt.draw()  # force initialization draw\n",
    "\t# plt.show()\n",
    "\t# return\n",
    "\n",
    "\twith tqdm(total=ceil(len(res.t)/time_stride)+1) as pbar:\n",
    "\t\tdef update(idt: int):\n",
    "\t\t\t# update the scatters\n",
    "\t\t\tsc_idx.set_offsets(np.vstack((idx_mapping, activity[:, idt])).T)\n",
    "\t\t\tsc_idx.set_array(activity[:, idt])\n",
    "\t\t\tsc_emb.set_offsets(np.vstack((rnn.F[:Nmax, 0], activity[:, idt])).T)\n",
    "\t\t\tsc_emb.set_array(activity[:, idt])\n",
    "\n",
    "\t\t\tpbar.update(1)\n",
    "\n",
    "\t\tani = animation.FuncAnimation(fig, update, frames=range(0, len(res.t), time_stride))\n",
    "\t\tani.save(outpath, writer='ffmpeg', fps=15)\n",
    "\n",
    "\t\t# plt.show()\n",
    "\t\tplt.close()\n",
    "\n",
    "anim(rnn, res, 'animations/embedding_p=1.mp4', Nmax=1000, time_stride=5)"
   ]
  },
  {
   "attachments": {},
   "cell_type": "markdown",
   "metadata": {},
   "source": [
    "# rnn p=2"
   ]
  },
  {
   "cell_type": "code",
   "execution_count": 53,
   "metadata": {},
   "outputs": [
    {
     "name": "stderr",
     "output_type": "stream",
     "text": [
      "simulating LowRankRNN{N=100000, p=2, phi=sigmoid, I_ext=zero, exclude_self_connections=True}: 100.00%|██████████| t=40.000 of 40 [00:22<00:00]\n"
     ]
    }
   ],
   "source": [
    "rnn = LowRankRNN.new_valentin(p=2, N=100_000, random_state=42, phi=sigmoid, I_ext=zero, exclude_self_connections=True)\n",
    "res = rnn.simulate(h0=np.zeros(rnn.N), t_span=(0, 40), progress=True)"
   ]
  },
  {
   "cell_type": "code",
   "execution_count": 54,
   "metadata": {},
   "outputs": [
    {
     "name": "stderr",
     "output_type": "stream",
     "text": [
      "100%|██████████| 82/82 [00:34<00:00,  2.40it/s]\n"
     ]
    }
   ],
   "source": [
    "def anim(rnn: LowRankRNN, res: Result, outpath: Path, time_stride: int = 1, Nmax = 1500):\n",
    "\tactivity = rnn.phi(res.h[:Nmax])\n",
    "\n",
    "\tfig, axes = plt.subplots(ncols=2, figsize=(4, 3), dpi=200,\n",
    "\t\twidth_ratios=[30, 1], layout=None)\n",
    "\n",
    "\t# neuron embedding\n",
    "\n",
    "\tss = axes[0].get_subplotspec()\n",
    "\taxes[0].remove()\n",
    "\taxes[0] = fig.add_subplot(ss, projection='3d')  # replace by 3D axis\n",
    "\taxes[0].set_proj_type('ortho')\n",
    "\n",
    "\taxes[0].set_title('Neural activity in the 2D embedding', fontsize='medium')\n",
    "\taxes[0].scatter(\n",
    "\t\trnn.F[:Nmax, 0], rnn.F[:Nmax, 1], np.zeros_like(activity[:, 0]),\n",
    "\t\ts=3, c='#BBBBBB', alpha=1, ec=None, zorder=0,\n",
    "\t)  # shadow on the floor\n",
    "\tsc_proj1 = axes[0].scatter(\n",
    "\t\trnn.F[:Nmax, 0], np.full(Nmax, 4), activity[:Nmax, 0],\n",
    "\t\ts=3, c='#BBBBBB', alpha=1, ec=None, zorder=0,\n",
    "\t)  # shadow on z1\n",
    "\tsc_proj2 = axes[0].scatter(\n",
    "\t\tnp.full(Nmax, 4), rnn.F[:Nmax, 1], activity[:Nmax, 0],\n",
    "\t\ts=3, c='#BBBBBB', alpha=1, ec=None, zorder=0,\n",
    "\t)  # shadow on v2\n",
    "\tsc_emb = axes[0].scatter(\n",
    "\t\trnn.F[:Nmax, 0], rnn.F[:Nmax, 1], activity[:Nmax, 0], c=activity[:, 0],\n",
    "\t\ts=3, alpha=1, ec=None, clip_on=False,\n",
    "\t\tcmap=cmap_bi, vmin=0, vmax=1\n",
    "\t)  # the full projection\n",
    "\taxes[0].set_xlabel('$z_{1i}$')\n",
    "\taxes[0].set_ylabel('$z_{2i}$')\n",
    "\taxes[0].set_xlim((-4, 4))\n",
    "\taxes[0].set_ylim((-4, 4))\n",
    "\taxes[0].set_zlim((0,1))\n",
    "\taxes[0].view_init(azim=180+45)\n",
    "\n",
    "\t# axes[0].yaxis.set_visible(False)\n",
    "\t# axes[0].spines.left.set_visible(False)\n",
    "\t# breathe(axes[0], 'x')\n",
    "\n",
    "\tfig.colorbar(\n",
    "\t\tsc_emb, cax=axes[1],\n",
    "\t\tlocation='right',\n",
    "\t\tlabel='Activity $\\\\phi(h(z_{1i},z_{2i}))$ [Hz]')\n",
    "\n",
    "\tfig.subplots_adjust(wspace=0.2)\n",
    "\tfor _ in range(20):\n",
    "\t\t# matplotlib is jank proute\n",
    "\t\tplt.draw()  # force initialization draw\n",
    "\t# plt.show()\n",
    "\t# return\n",
    "\n",
    "\twith tqdm(total=ceil(len(res.t)/time_stride)+1) as pbar:\n",
    "\t\tdef update(idt: int):\n",
    "\t\t\t# update the scatters\n",
    "\t\t\tsc_emb.set_offsets(np.vstack((rnn.F[:Nmax, 0], rnn.F[:Nmax, 1])).T)\n",
    "\t\t\tsc_emb.set_3d_properties(activity[:Nmax, idt].T, 'z')\n",
    "\t\t\tsc_emb.set_array(activity[:Nmax, idt])\n",
    "\t\t\t# update the shadow z1\n",
    "\t\t\tsc_proj1.set_offsets(np.vstack((rnn.F[:Nmax, 0], np.full(Nmax, 4))).T)\n",
    "\t\t\tsc_proj1.set_3d_properties(activity[:Nmax, idt].T, 'z')\n",
    "\t\t\t# update the shadow z2\n",
    "\t\t\tsc_proj2.set_offsets(np.vstack((np.full(Nmax, 4), rnn.F[:Nmax, 1])).T)\n",
    "\t\t\tsc_proj2.set_3d_properties(activity[:Nmax, idt].T, 'z')\n",
    "\n",
    "\t\t\tpbar.update(1)\n",
    "\n",
    "\t\tani = animation.FuncAnimation(fig, update, frames=range(0, len(res.t), time_stride))\n",
    "\t\tani.save(outpath, writer='ffmpeg', fps=15)\n",
    "\n",
    "\t\t# plt.show()\n",
    "\t\tplt.close()\n",
    "\n",
    "anim(rnn, res, 'animations/embedding_p=2.mp4', Nmax=5000, time_stride=5)"
   ]
  },
  {
   "attachments": {},
   "cell_type": "markdown",
   "metadata": {},
   "source": [
    "# p=2 cycling"
   ]
  },
  {
   "cell_type": "code",
   "execution_count": 70,
   "metadata": {},
   "outputs": [
    {
     "name": "stderr",
     "output_type": "stream",
     "text": [
      "simulating LowRankCyclingRNN{N=4096, p=2, delta=6, shift=1, phi=sigmoid, I_ext=zero, exclude_self_connections=False}: 100.00%|██████████| t=60.000 of 60 [00:04<00:00]\n"
     ]
    }
   ],
   "source": [
    "nrec = 6\n",
    "rnn = LowRankCyclingRNN.new_sampled_valentin(\n",
    "\tphi=sigmoid, mapping_samples=ReshapeMapping.new_nrec(nrec=nrec).inverse_samples(),\n",
    "\tI_ext=zero, exclude_self_connections=False, delta=6, shift=1\n",
    ")\n",
    "res = rnn.simulate(rnn.F[:, 0], (0, 60), progress=True, cache=True)"
   ]
  },
  {
   "cell_type": "code",
   "execution_count": 71,
   "metadata": {},
   "outputs": [
    {
     "data": {
      "text/plain": [
       "(<Figure size 400x300 with 1 Axes>,\n",
       " <Axes: title={'center': 'Latent trajectory'}, xlabel='Latent $\\\\kappa_1(t)$', ylabel='Latent $\\\\kappa_2(t)$'>)"
      ]
     },
     "execution_count": 71,
     "metadata": {},
     "output_type": "execute_result"
    },
    {
     "data": {
      "image/png": "[encoded data removed]",
      "text/plain": [
       "<Figure size 400x300 with 1 Axes>"
      ]
     },
     "metadata": {},
     "output_type": "display_data"
    }
   ],
   "source": [
    "plot_overlap_phase2D(rnn, res)"
   ]
  },
  {
   "cell_type": "code",
   "execution_count": 91,
   "metadata": {},
   "outputs": [
    {
     "name": "stderr",
     "output_type": "stream",
     "text": [
      "100%|██████████| 202/202 [01:55<00:00,  1.75it/s]\n"
     ]
    }
   ],
   "source": [
    "def anim(rnn: LowRankRNN, res: Result, outpath: Path, time_stride: int = 1):\n",
    "\tactivity = rnn.phi(res.h)\n",
    "\n",
    "\tfig, axes = plt.subplots(ncols=3, figsize=(8, 3), dpi=200,\n",
    "\t\twidth_ratios=[1, 30, 30], layout='constrained')\n",
    "\n",
    "\t# neuron embedding\n",
    "\n",
    "\tss = axes[1].get_subplotspec()\n",
    "\taxes[1].remove()\n",
    "\taxes[1] = fig.add_subplot(ss, projection='3d')  # replace by 3D axis\n",
    "\taxes[1].set_proj_type('ortho')\n",
    "\n",
    "\tshape = (2**nrec, 2**nrec)\n",
    "\n",
    "\taxes[1].set_title('Neural activity in the 2D embedding', fontsize='medium')\n",
    "\tsc_proj1 = axes[1].scatter(\n",
    "\t\trnn.F[:, 0], np.full(rnn.N, 3), activity[:, 0],\n",
    "\t\ts=3, c='#BBBBBB', alpha=1, ec=None, zorder=0,\n",
    "\t)  # shadow on z1\n",
    "\tsc_proj2 = axes[1].scatter(\n",
    "\t\tnp.full(rnn.N, 3), rnn.F[:, 1], activity[:, 0],\n",
    "\t\ts=3, c='#BBBBBB', alpha=1, ec=None, zorder=0,\n",
    "\t)  # shadow on v2\n",
    "\n",
    "\tsurf_emb = axes[1].plot_surface(\n",
    "\t\trnn.F[:, 0].reshape(shape), rnn.F[:, 1].reshape(shape), activity[:, 0].reshape(shape),\n",
    "\t\tcmap=cmap_bi, vmin=0, vmax=1, rasterized=True,\n",
    "\t)\n",
    "\taxes[1].set_xlabel('$z_1$')\n",
    "\taxes[1].set_ylabel('$z_2$')\n",
    "\taxes[1].set_xlim((-3, 3))\n",
    "\taxes[1].set_ylim((-3, 3))\n",
    "\taxes[1].set_zlim((0,1))\n",
    "\taxes[1].view_init(azim=180+45)\n",
    "\n",
    "\tfig.colorbar(\n",
    "\t\tsurf_emb, cax=axes[0],\n",
    "\t\tlocation='left',\n",
    "\t\tlabel='Activity $\\\\phi(h(z_1,z_2))$ [Hz]')\n",
    "\n",
    "\tkappa = projection(rnn, res.h)\n",
    "\tlat_line = axes[2].plot(*kappa[:, :1], color='black', clip_on=False)[0]\n",
    "\tlat_cur = axes[2].plot(*kappa[:, :1], 'o', color='black', clip_on=False)[0]\n",
    "\taxes[2].set_xlabel('$\\\\kappa_1$'); axes[2].set_ylabel('$\\\\kappa_2$');\n",
    "\taxes[2].set_xlim((0, 1)); axes[2].set_ylim((0, 1));\n",
    "\taxes[2].set_title('Latent trajectory', fontsize='medium')\n",
    "\taxes[2].set_aspect('equal')\n",
    "\tbreathe(axes[2])\n",
    "\n",
    "\t# fig.subplots_adjust(wspace=0.2)\n",
    "\tfor _ in range(20):\n",
    "\t\t# matplotlib is jank proute\n",
    "\t\tplt.draw()  # force initialization draw\n",
    "\t\n",
    "\t# plt.show()\n",
    "\t# return\n",
    "\n",
    "\tthings = dict(surf_emb=surf_emb)  # need a dict to hold a reference, because we re-assign. thank you, Python nya\n",
    "\n",
    "\twith tqdm(total=ceil(len(res.t)/time_stride)+1) as pbar:\n",
    "\t\tdef update(idt: int):\n",
    "\t\t\t# update the surface\n",
    "\t\t\tthings['surf_emb'].remove()\n",
    "\t\t\tthings['surf_emb'] = axes[1].plot_surface(\n",
    "\t\t\t\trnn.F[:, 0].reshape(shape), rnn.F[:, 1].reshape(shape), activity[:, idt].reshape(shape),\n",
    "\t\t\t\tcmap=cmap_bi, vmin=0, vmax=1, rasterized=True,\n",
    "\t\t\t)\n",
    "\n",
    "\t\t\t# update the shadow z1\n",
    "\t\t\tsc_proj1.set_offsets(np.vstack((rnn.F[:, 0], np.full(rnn.N, 3))).T)\n",
    "\t\t\tsc_proj1.set_3d_properties(activity[:, idt].T, 'z')\n",
    "\t\t\t# update the shadow z2\n",
    "\t\t\tsc_proj2.set_offsets(np.vstack((np.full(rnn.N, 3), rnn.F[:, 1])).T)\n",
    "\t\t\tsc_proj2.set_3d_properties(activity[:, idt].T, 'z')\n",
    "\n",
    "\t\t\t# update the latent trajectory\n",
    "\t\t\tlat_line.set_data(*kappa[:, :idt+1])\n",
    "\t\t\tlat_cur.set_data(*kappa[:, idt:idt+1])\n",
    "\n",
    "\t\t\tpbar.update(1)\n",
    "\n",
    "\t\tani = animation.FuncAnimation(fig, update, frames=range(0, len(res.t), time_stride))\n",
    "\t\tani.save(outpath, writer='ffmpeg', fps=15)\n",
    "\n",
    "\t\tplt.close()\n",
    "\n",
    "anim(rnn, res, 'animations/embedding_p=2_cycling.mp4', time_stride=3)"
   ]
  }
 ],
 "metadata": {
  "kernelspec": {
   "display_name": "lcn_thesis",
   "language": "python",
   "name": "python3"
  },
  "language_info": {
   "codemirror_mode": {
    "name": "ipython",
    "version": 3
   },
   "file_extension": ".py",
   "mimetype": "text/x-python",
   "name": "python",
   "nbconvert_exporter": "python",
   "pygments_lexer": "ipython3",
   "version": "3.11.0"
  },
  "orig_nbformat": 4
 },
 "nbformat": 4,
 "nbformat_minor": 2
}
